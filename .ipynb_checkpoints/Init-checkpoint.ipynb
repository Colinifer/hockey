{
 "cells": [
  {
   "cell_type": "code",
   "execution_count": 27,
   "id": "6f57767a",
   "metadata": {},
   "outputs": [],
   "source": [
    "import psycopg2\n",
    "import sys\n",
    "from psycopg2 import connect, sql\n",
    "\n",
    "#establishing the connection\n",
    "conn = psycopg2.connect(\n",
    "   dbname=\"hockey\", user='publiccolin', password='VYgIlmCeNg3wIoLe', host='localhost', port='4432'\n",
    ")\n",
    "\n",
    "#Setting auto commit false\n",
    "conn.autocommit = True\n",
    "\n",
    "#Creating a cursor object using the cursor() method\n",
    "cursor = conn.cursor()"
   ]
  },
  {
   "cell_type": "code",
   "execution_count": 29,
   "id": "104d4bd6",
   "metadata": {},
   "outputs": [],
   "source": [
    "sql_object = sql.SQL(\n",
    "                # pass SQL string to sql.SQL()\n",
    "                \"\"\"SELECT game_id FROM hockeyR_pbp\n",
    "  WHERE season = 20212022;\"\"\"\n",
    "            ).format(\n",
    "                # pass the identifier to the Identifier() method\n",
    "                sql.Identifier('hockeyR')\n",
    "            )\n"
   ]
  },
  {
   "cell_type": "code",
   "execution_count": 30,
   "id": "4020f532",
   "metadata": {
    "scrolled": true
   },
   "outputs": [
    {
     "ename": "UndefinedTable",
     "evalue": "relation \"hockeyr_pbp\" does not exist\nLINE 1: SELECT game_id FROM hockeyR_pbp\n                            ^\n",
     "output_type": "error",
     "traceback": [
      "\u001b[0;31m---------------------------------------------------------------------------\u001b[0m",
      "\u001b[0;31mUndefinedTable\u001b[0m                            Traceback (most recent call last)",
      "\u001b[0;32m/var/folders/x7/xhgs2dv1471469zrfltg22l00000gn/T/ipykernel_18161/2738899580.py\u001b[0m in \u001b[0;36m<module>\u001b[0;34m\u001b[0m\n\u001b[1;32m      1\u001b[0m \u001b[0;31m#Retrieving data\u001b[0m\u001b[0;34m\u001b[0m\u001b[0;34m\u001b[0m\u001b[0m\n\u001b[0;32m----> 2\u001b[0;31m \u001b[0mcursor\u001b[0m\u001b[0;34m.\u001b[0m\u001b[0mexecute\u001b[0m\u001b[0;34m(\u001b[0m\u001b[0msql_query\u001b[0m\u001b[0;34m)\u001b[0m\u001b[0;34m\u001b[0m\u001b[0;34m\u001b[0m\u001b[0m\n\u001b[0m",
      "\u001b[0;31mUndefinedTable\u001b[0m: relation \"hockeyr_pbp\" does not exist\nLINE 1: SELECT game_id FROM hockeyR_pbp\n                            ^\n"
     ]
    }
   ],
   "source": [
    "#Retrieving data\n",
    "cursor.execute(sql_query)"
   ]
  },
  {
   "cell_type": "code",
   "execution_count": null,
   "id": "99d3ebb9",
   "metadata": {},
   "outputs": [],
   "source": [
    "#Fetching 1st row from the table\n",
    "result = cursor.fetchone();\n",
    "print(result)\n",
    "\n",
    "#Fetching 1st row from the table\n",
    "result = cursor.fetchall();\n",
    "print(result)\n",
    "\n",
    "#Commit your changes in the database\n",
    "conn.commit()"
   ]
  },
  {
   "cell_type": "code",
   "execution_count": 31,
   "id": "14d57f1b",
   "metadata": {},
   "outputs": [],
   "source": [
    "#Closing the connection\n",
    "conn.close()"
   ]
  }
 ],
 "metadata": {
  "kernelspec": {
   "display_name": "Python 3 (ipykernel)",
   "language": "python",
   "name": "python3"
  },
  "language_info": {
   "codemirror_mode": {
    "name": "ipython",
    "version": 3
   },
   "file_extension": ".py",
   "mimetype": "text/x-python",
   "name": "python",
   "nbconvert_exporter": "python",
   "pygments_lexer": "ipython3",
   "version": "3.9.7"
  }
 },
 "nbformat": 4,
 "nbformat_minor": 5
}
